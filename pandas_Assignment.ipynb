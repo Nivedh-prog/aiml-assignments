{
  "nbformat": 4,
  "nbformat_minor": 0,
  "metadata": {
    "colab": {
      "private_outputs": true,
      "provenance": [],
      "authorship_tag": "ABX9TyOl5uQ5ny1hUc3HbYhJpafk",
      "include_colab_link": true
    },
    "kernelspec": {
      "name": "python3",
      "display_name": "Python 3"
    },
    "language_info": {
      "name": "python"
    }
  },
  "cells": [
    {
      "cell_type": "markdown",
      "metadata": {
        "id": "view-in-github",
        "colab_type": "text"
      },
      "source": [
        "<a href=\"https://colab.research.google.com/github/Nivedh-prog/aiml-assignments/blob/main/pandas_Assignment.ipynb\" target=\"_parent\"><img src=\"https://colab.research.google.com/assets/colab-badge.svg\" alt=\"Open In Colab\"/></a>"
      ]
    },
    {
      "cell_type": "code",
      "execution_count": null,
      "metadata": {
        "id": "SK90l3KJLuUg"
      },
      "outputs": [],
      "source": [
        "import pandas as pd"
      ]
    },
    {
      "cell_type": "code",
      "source": [
        "df = pd.read_csv(r\"/content/supermarket_sales - Sheet1.csv\")\n",
        "df"
      ],
      "metadata": {
        "id": "3UBLtJNfMJ-R"
      },
      "execution_count": null,
      "outputs": []
    },
    {
      "cell_type": "code",
      "source": [
        "df.head(5)\n"
      ],
      "metadata": {
        "id": "DnaWFoX-ML-O"
      },
      "execution_count": null,
      "outputs": []
    },
    {
      "cell_type": "code",
      "source": [
        "df.dtypes"
      ],
      "metadata": {
        "id": "5CFnt0jYM_g7"
      },
      "execution_count": null,
      "outputs": []
    },
    {
      "cell_type": "code",
      "source": [
        "len(df)"
      ],
      "metadata": {
        "id": "Lu3U2WbYNH42"
      },
      "execution_count": null,
      "outputs": []
    },
    {
      "cell_type": "code",
      "source": [
        "df.shape"
      ],
      "metadata": {
        "id": "lRRhxBUkOcXa"
      },
      "execution_count": null,
      "outputs": []
    },
    {
      "cell_type": "code",
      "source": [
        "df['Customer type'].value_counts()"
      ],
      "metadata": {
        "id": "O_lPremUQDEj"
      },
      "execution_count": null,
      "outputs": []
    },
    {
      "cell_type": "code",
      "source": [
        "df[df['Payment']=='Cash']"
      ],
      "metadata": {
        "id": "xuskMibUQQQj"
      },
      "execution_count": null,
      "outputs": []
    },
    {
      "cell_type": "code",
      "source": [
        "df[df['Branch']=='A'].head(10)"
      ],
      "metadata": {
        "id": "UnJEOX50Qf5r"
      },
      "execution_count": null,
      "outputs": []
    },
    {
      "cell_type": "code",
      "source": [
        "df.sort_values(by='Total',ascending=False).head(5)"
      ],
      "metadata": {
        "id": "PV9duYhxQp2a"
      },
      "execution_count": null,
      "outputs": []
    },
    {
      "cell_type": "code",
      "source": [
        "df[df['Product line']=='Health and beauty']['Quantity'].sum()"
      ],
      "metadata": {
        "id": "0MNSaZdWRAJz"
      },
      "execution_count": null,
      "outputs": []
    },
    {
      "cell_type": "code",
      "source": [
        "df"
      ],
      "metadata": {
        "id": "bd58nAWERQvY"
      },
      "execution_count": null,
      "outputs": []
    },
    {
      "cell_type": "code",
      "source": [
        "df.isna().sum()"
      ],
      "metadata": {
        "id": "W-RK29HvSTUP"
      },
      "execution_count": null,
      "outputs": []
    },
    {
      "cell_type": "code",
      "source": [
        "df['Date'].astype('datetime64[ns]')"
      ],
      "metadata": {
        "id": "A_MWj-9RTCit"
      },
      "execution_count": null,
      "outputs": []
    },
    {
      "cell_type": "code",
      "source": [
        "df.groupby('Product line')['Total'].mean()"
      ],
      "metadata": {
        "id": "2MlVS1-kTHuZ"
      },
      "execution_count": null,
      "outputs": []
    },
    {
      "cell_type": "code",
      "source": [
        "df.groupby('City')['gross income'].sum()"
      ],
      "metadata": {
        "id": "aGiAC9GPTpKr"
      },
      "execution_count": null,
      "outputs": []
    },
    {
      "cell_type": "code",
      "source": [
        "#3. Create a new column 'Total Including Tax' by adding 'Tax 5%' to 'Total'.\n",
        "df['Total Including Tax'] = df['Total']+0.05*df['Total']"
      ],
      "metadata": {
        "id": "ehcnU1mKT8_-"
      },
      "execution_count": null,
      "outputs": []
    },
    {
      "cell_type": "code",
      "source": [
        "df['Total Including Tax']"
      ],
      "metadata": {
        "id": "Q7YKxawlUQ4e"
      },
      "execution_count": null,
      "outputs": []
    },
    {
      "cell_type": "code",
      "source": [
        "#4. Find the total number of transactions made by 'Members' and 'Normal' customers.\n",
        "df.groupby(df['Customer type'])['Total'].count()"
      ],
      "metadata": {
        "id": "uFTTtoo-USxm"
      },
      "execution_count": null,
      "outputs": []
    },
    {
      "cell_type": "code",
      "source": [
        "#Filter the dataset to show transactions where the 'Payment' method is 'Ewallet' and\n",
        "# the 'Total' is greater than 500"
      ],
      "metadata": {
        "id": "s0kFSN8kUi4f"
      },
      "execution_count": null,
      "outputs": []
    },
    {
      "cell_type": "code",
      "source": [
        "df[(df['Payment']=='Ewallet') & (df['Total']>500)]"
      ],
      "metadata": {
        "id": "VIOyCXj7U_n4"
      },
      "execution_count": null,
      "outputs": []
    },
    {
      "cell_type": "code",
      "source": [
        "#6. Find the highest 'Rating' received for each 'Product Line'.\n"
      ],
      "metadata": {
        "id": "KD1e8JrlVBWH"
      },
      "execution_count": null,
      "outputs": []
    },
    {
      "cell_type": "code",
      "source": [
        "df.groupby('Product line')['Rating'].max()"
      ],
      "metadata": {
        "id": "rOmL__8gV78p"
      },
      "execution_count": null,
      "outputs": []
    },
    {
      "cell_type": "code",
      "source": [
        "#7. Calculate the total 'Quantity' of products sold for each 'Branch'.\n"
      ],
      "metadata": {
        "id": "ec4rNRCcWGzA"
      },
      "execution_count": null,
      "outputs": []
    },
    {
      "cell_type": "code",
      "source": [
        "df.groupby('Branch')['Quantity'].sum()"
      ],
      "metadata": {
        "id": "NaBMCTVQWM94"
      },
      "execution_count": null,
      "outputs": []
    },
    {
      "cell_type": "code",
      "source": [
        "df.groupby('City')['Total'].sum().nlargest(3)"
      ],
      "metadata": {
        "id": "Y-t-1PDuWZ7v"
      },
      "execution_count": null,
      "outputs": []
    },
    {
      "cell_type": "code",
      "source": [
        "# 9. Replace any missing values in the 'Rating' column with the median of the 'Rating'\n",
        "# column\n",
        "\n",
        "df['Rating'].fillna(df['Rating'].mean())"
      ],
      "metadata": {
        "id": "7MTNNirJWi5C"
      },
      "execution_count": null,
      "outputs": []
    },
    {
      "cell_type": "code",
      "source": [
        "# 10. Standardize 'Date' column\n",
        "df['Date'] = pd.to_datetime(df['Date'], errors='coerce')\n",
        "\n",
        "\n"
      ],
      "metadata": {
        "id": "H9tnS2A-WmTL"
      },
      "execution_count": null,
      "outputs": []
    },
    {
      "cell_type": "code",
      "source": [
        "df['Date']"
      ],
      "metadata": {
        "id": "RqrgpeT2XsEx"
      },
      "execution_count": null,
      "outputs": []
    },
    {
      "cell_type": "code",
      "source": [
        "\n",
        "# 1. Correlation between 'Quantity' and 'Total'\n",
        "correlation = df['Quantity'].corr(df['Total'])"
      ],
      "metadata": {
        "id": "qhujhDyJX92z"
      },
      "execution_count": null,
      "outputs": []
    },
    {
      "cell_type": "code",
      "source": [
        "# 2. Group by 'Branch' and 'Customer Type' for average 'Rating'\n",
        "avg_rating = df.groupby(['Branch', 'Customer Type'])['Rating'].mean()\n"
      ],
      "metadata": {
        "id": "F0TSgoG66h0Y"
      },
      "execution_count": null,
      "outputs": []
    },
    {
      "cell_type": "code",
      "source": [
        "# 3. Bar chart of total sales per 'Product Line'\n",
        "product_sales = df.groupby('Product line')['Total'].sum()\n",
        "product_sales.plot(kind='bar')\n",
        "plt.show()"
      ],
      "metadata": {
        "id": "4PmRBf1X6hw1"
      },
      "execution_count": null,
      "outputs": []
    },
    {
      "cell_type": "code",
      "source": [
        "# 4. Top 3 Product Lines by 'Gross Income'\n",
        "top_gross = df.groupby('Product line')['gross income'].sum().nlargest(3)\n"
      ],
      "metadata": {
        "id": "ZNJR1x8P6hua"
      },
      "execution_count": null,
      "outputs": []
    },
    {
      "cell_type": "code",
      "source": [
        "# 5. Payment methods across 'Customer Type'\n",
        "payment_pattern = pd.crosstab(df['Customer Type'], df['Payment'])\n"
      ],
      "metadata": {
        "id": "7XccolPA6hsG"
      },
      "execution_count": null,
      "outputs": []
    },
    {
      "cell_type": "code",
      "source": [
        "df_sorted = df.sort_values('Date')\n",
        "df_sorted['Cumulative Gross'] = df_sorted['gross income'].cumsum()\n",
        "df_sorted.plot(x='Date', y='Cumulative Gross', figsize=(10,5))\n",
        "plt.title('Cumulative Gross Income Over Time')\n",
        "plt.tight_layout()\n",
        "plt.show()"
      ],
      "metadata": {
        "id": "334b9qOp6ho3"
      },
      "execution_count": null,
      "outputs": []
    },
    {
      "cell_type": "code",
      "source": [
        "# 7. Monthly trend in sales\n",
        "df['Month'] = df['Date'].dt.to_period('M')\n",
        "monthly_sales = df.groupby('Month')['Total'].sum()\n",
        "monthly_sales.plot(marker='o')\n",
        "plt.ylabel('Monthly Sales')\n",
        "plt.title('Monthly Sales Trend')\n",
        "plt.tight_layout()\n",
        "plt.show()"
      ],
      "metadata": {
        "id": "YMeRWxRU6hmL"
      },
      "execution_count": null,
      "outputs": []
    },
    {
      "cell_type": "code",
      "source": [
        "# 8. Correlation between 'Rating' and 'Product Line'\n",
        "product_rating = df.groupby('Product line')['Rating'].mean()\n"
      ],
      "metadata": {
        "id": "Pgjcn2j56hje"
      },
      "execution_count": null,
      "outputs": []
    },
    {
      "cell_type": "code",
      "source": [
        "# 9. Remove outliers in 'Total' > 1000\n",
        "df_no_outliers = df[df['Total'] <= 1000]\n",
        "impact = {\n",
        "    \"original_mean\": df['Total'].mean(),\n",
        "    \"filtered_mean\": df_no_outliers['Total'].mean(),\n",
        "    \"original_count\": len(df),\n",
        "    \"filtered_count\": len(df_no_outliers)\n",
        "}"
      ],
      "metadata": {
        "id": "7-F0JPXc6hgt"
      },
      "execution_count": null,
      "outputs": []
    },
    {
      "cell_type": "code",
      "source": [],
      "metadata": {
        "id": "UqN-kCJq6heB"
      },
      "execution_count": null,
      "outputs": []
    },
    {
      "cell_type": "code",
      "source": [],
      "metadata": {
        "id": "q1OMDhyr6hYF"
      },
      "execution_count": null,
      "outputs": []
    },
    {
      "cell_type": "code",
      "source": [],
      "metadata": {
        "id": "jEDjSfxl6hL6"
      },
      "execution_count": null,
      "outputs": []
    }
  ]
}