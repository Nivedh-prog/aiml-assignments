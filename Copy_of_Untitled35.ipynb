{
  "nbformat": 4,
  "nbformat_minor": 0,
  "metadata": {
    "colab": {
      "provenance": [],
      "authorship_tag": "ABX9TyPLvgetNy4uI0dy/fVwyx7U",
      "include_colab_link": true
    },
    "kernelspec": {
      "name": "python3",
      "display_name": "Python 3"
    },
    "language_info": {
      "name": "python"
    }
  },
  "cells": [
    {
      "cell_type": "markdown",
      "metadata": {
        "id": "view-in-github",
        "colab_type": "text"
      },
      "source": [
        "<a href=\"https://colab.research.google.com/github/Nivedh-prog/aiml-assignments/blob/main/Copy_of_Untitled35.ipynb\" target=\"_parent\"><img src=\"https://colab.research.google.com/assets/colab-badge.svg\" alt=\"Open In Colab\"/></a>"
      ]
    },
    {
      "cell_type": "markdown",
      "source": [
        "1. Shape & Type Check: Print the shape and data type of the `data` array. Then\n",
        "\n",
        "---\n",
        "\n",
        "convert it to float.\n"
      ],
      "metadata": {
        "id": "q5daYtSskQdH"
      }
    },
    {
      "cell_type": "code",
      "execution_count": 1,
      "metadata": {
        "id": "QQehRsskdJDC"
      },
      "outputs": [],
      "source": [
        "import numpy as np\n",
        "data = np.array([\n",
        " [25, 78, 45, 62],\n",
        " [30, 85, 60, 74],\n",
        " [35, 90, 72, 80],\n",
        " [28, 70, 50, 65],\n",
        " [40, 88, 69, 85]\n",
        "])"
      ]
    },
    {
      "cell_type": "code",
      "source": [
        "print(data.shape)\n",
        "print(data.dtype)"
      ],
      "metadata": {
        "id": "25vZ4Kqjf7WC",
        "colab": {
          "base_uri": "https://localhost:8080/"
        },
        "outputId": "738a976d-f72f-40de-8ebe-0fa32169d7a5"
      },
      "execution_count": 2,
      "outputs": [
        {
          "output_type": "stream",
          "name": "stdout",
          "text": [
            "(5, 4)\n",
            "int64\n"
          ]
        }
      ]
    },
    {
      "cell_type": "code",
      "source": [
        "flt = data.astype(float)"
      ],
      "metadata": {
        "id": "RHobrsBJgI6P"
      },
      "execution_count": 3,
      "outputs": []
    },
    {
      "cell_type": "code",
      "source": [
        "flt"
      ],
      "metadata": {
        "id": "_IZn3ramgYfm",
        "colab": {
          "base_uri": "https://localhost:8080/"
        },
        "outputId": "6c2d3b7b-b43f-42ae-8ea9-a799f11ac3fc"
      },
      "execution_count": 4,
      "outputs": [
        {
          "output_type": "execute_result",
          "data": {
            "text/plain": [
              "array([[25., 78., 45., 62.],\n",
              "       [30., 85., 60., 74.],\n",
              "       [35., 90., 72., 80.],\n",
              "       [28., 70., 50., 65.],\n",
              "       [40., 88., 69., 85.]])"
            ]
          },
          "metadata": {},
          "execution_count": 4
        }
      ]
    },
    {
      "cell_type": "markdown",
      "source": [
        "2. Score Filtering: Find the rows where both Test Score 1 > 80 and Final Evaluation Score > 75.\n"
      ],
      "metadata": {
        "id": "6HwuUvlVkTAI"
      }
    },
    {
      "cell_type": "code",
      "source": [
        "rows = data[(data[:, 1] > 80) & (data[:, 3] > 75)]\n",
        "#(if both)\n",
        "\n",
        "print(rows)\n"
      ],
      "metadata": {
        "id": "5i537EobgZMr",
        "colab": {
          "base_uri": "https://localhost:8080/"
        },
        "outputId": "ede1cae9-dec0-4ae1-dbf1-db2b219031d5"
      },
      "execution_count": 5,
      "outputs": [
        {
          "output_type": "stream",
          "name": "stdout",
          "text": [
            "[[35 90 72 80]\n",
            " [40 88 69 85]]\n"
          ]
        }
      ]
    },
    {
      "cell_type": "code",
      "source": [
        "data"
      ],
      "metadata": {
        "id": "V2XkA6mtgjeK",
        "colab": {
          "base_uri": "https://localhost:8080/"
        },
        "outputId": "0814741c-b6f5-4893-e62f-07ae093216eb"
      },
      "execution_count": 6,
      "outputs": [
        {
          "output_type": "execute_result",
          "data": {
            "text/plain": [
              "array([[25, 78, 45, 62],\n",
              "       [30, 85, 60, 74],\n",
              "       [35, 90, 72, 80],\n",
              "       [28, 70, 50, 65],\n",
              "       [40, 88, 69, 85]])"
            ]
          },
          "metadata": {},
          "execution_count": 6
        }
      ]
    },
    {
      "cell_type": "markdown",
      "source": [
        "3. Normalization: Normalize all columns except Age to the range [0, 1].\n"
      ],
      "metadata": {
        "id": "REgPDugIkYUw"
      }
    },
    {
      "cell_type": "code",
      "source": [
        "new_d = data.copy()\n",
        "for i in range(1, 4):\n",
        "    min_value = data[:,i].min()\n",
        "    max_value = data[:,i].max()\n",
        "    new_d[:,i] = (data[:,i]-min_value)/(max_value-min_value)\n",
        "new_d"
      ],
      "metadata": {
        "id": "Nklt-RfXiI7I",
        "colab": {
          "base_uri": "https://localhost:8080/"
        },
        "outputId": "11cc52cc-161a-4e41-c575-531a4ffbfa71"
      },
      "execution_count": 7,
      "outputs": [
        {
          "output_type": "execute_result",
          "data": {
            "text/plain": [
              "array([[25,  0,  0,  0],\n",
              "       [30,  0,  0,  0],\n",
              "       [35,  1,  1,  0],\n",
              "       [28,  0,  0,  0],\n",
              "       [40,  0,  0,  1]])"
            ]
          },
          "metadata": {},
          "execution_count": 7
        }
      ]
    },
    {
      "cell_type": "code",
      "source": [
        "data"
      ],
      "metadata": {
        "id": "JVeFmrQJinZI",
        "colab": {
          "base_uri": "https://localhost:8080/"
        },
        "outputId": "045686bc-92a7-4c54-cc66-3b6849686015"
      },
      "execution_count": 8,
      "outputs": [
        {
          "output_type": "execute_result",
          "data": {
            "text/plain": [
              "array([[25, 78, 45, 62],\n",
              "       [30, 85, 60, 74],\n",
              "       [35, 90, 72, 80],\n",
              "       [28, 70, 50, 65],\n",
              "       [40, 88, 69, 85]])"
            ]
          },
          "metadata": {},
          "execution_count": 8
        }
      ]
    },
    {
      "cell_type": "markdown",
      "source": [
        "4. Conditional Replacement: Replace all Final Evaluation Scores less than 70 with the average of all Final\n",
        "Evaluation Scores."
      ],
      "metadata": {
        "id": "-mupK5iUkWGZ"
      }
    },
    {
      "cell_type": "code",
      "source": [
        "xy = data[:,-1]\n",
        "xy"
      ],
      "metadata": {
        "id": "2QyIGbhLjrzs",
        "colab": {
          "base_uri": "https://localhost:8080/"
        },
        "outputId": "02ab0e67-ac0e-4b75-baf3-61b897195bd8"
      },
      "execution_count": 9,
      "outputs": [
        {
          "output_type": "execute_result",
          "data": {
            "text/plain": [
              "array([62, 74, 80, 65, 85])"
            ]
          },
          "metadata": {},
          "execution_count": 9
        }
      ]
    },
    {
      "cell_type": "code",
      "source": [
        "mask = xy<70"
      ],
      "metadata": {
        "id": "A3hNmDEnjuQf"
      },
      "execution_count": 10,
      "outputs": []
    },
    {
      "cell_type": "code",
      "source": [
        "mask"
      ],
      "metadata": {
        "id": "CtJWIy9Qj35y",
        "colab": {
          "base_uri": "https://localhost:8080/"
        },
        "outputId": "8ee374df-27ef-492a-e973-1603707fc45c"
      },
      "execution_count": 11,
      "outputs": [
        {
          "output_type": "execute_result",
          "data": {
            "text/plain": [
              "array([ True, False, False,  True, False])"
            ]
          },
          "metadata": {},
          "execution_count": 11
        }
      ]
    },
    {
      "cell_type": "code",
      "source": [
        "xy[mask] = xy[mask]*xy.mean()"
      ],
      "metadata": {
        "id": "N1U0lbzEj4KH"
      },
      "execution_count": 12,
      "outputs": []
    },
    {
      "cell_type": "code",
      "source": [
        "xy"
      ],
      "metadata": {
        "id": "x8-RRszLkFGG",
        "colab": {
          "base_uri": "https://localhost:8080/"
        },
        "outputId": "98fc7ae9-f72f-4d75-a5cb-8079a3c31389"
      },
      "execution_count": 13,
      "outputs": [
        {
          "output_type": "execute_result",
          "data": {
            "text/plain": [
              "array([4538,   74,   80, 4758,   85])"
            ]
          },
          "metadata": {},
          "execution_count": 13
        }
      ]
    },
    {
      "cell_type": "markdown",
      "source": [
        "5. Mean Scores: Compute the mean score per column and the mean score per person (row).\n"
      ],
      "metadata": {
        "id": "Gv6Kk5yHkb1m"
      }
    },
    {
      "cell_type": "code",
      "source": [
        "mean_column = data.mean(axis=0)\n",
        "mean_row =  data.mean(axis=1)"
      ],
      "metadata": {
        "id": "iXP01IiPkGpQ"
      },
      "execution_count": 14,
      "outputs": []
    },
    {
      "cell_type": "code",
      "source": [
        "mean_column"
      ],
      "metadata": {
        "id": "eigUGNhkkwoC",
        "colab": {
          "base_uri": "https://localhost:8080/"
        },
        "outputId": "49bd2dff-9638-4da6-fd0d-3c9975395bc0"
      },
      "execution_count": 15,
      "outputs": [
        {
          "output_type": "execute_result",
          "data": {
            "text/plain": [
              "array([  31.6,   82.2,   59.2, 1907. ])"
            ]
          },
          "metadata": {},
          "execution_count": 15
        }
      ]
    },
    {
      "cell_type": "code",
      "source": [
        "mean_row"
      ],
      "metadata": {
        "id": "j5ZWw7xHkxgV",
        "colab": {
          "base_uri": "https://localhost:8080/"
        },
        "outputId": "d68dae4d-a377-48c2-9409-0eb04847d6d5"
      },
      "execution_count": 16,
      "outputs": [
        {
          "output_type": "execute_result",
          "data": {
            "text/plain": [
              "array([1171.5 ,   62.25,   69.25, 1226.5 ,   70.5 ])"
            ]
          },
          "metadata": {},
          "execution_count": 16
        }
      ]
    },
    {
      "cell_type": "markdown",
      "source": [
        "6. Sorting by Test Score 2: Sort the entire array based on Test Score 2 (Column 2) in descending order.\n"
      ],
      "metadata": {
        "id": "wNv3ONkvk3ou"
      }
    },
    {
      "cell_type": "code",
      "source": [
        "data = np.array([\n",
        " [25, 78, 45, 62],\n",
        " [30, 85, 60, 74],\n",
        " [35, 90, 72, 80],\n",
        " [28, 70, 50, 65],\n",
        " [40, 88, 69, 85]\n",
        "])\n"
      ],
      "metadata": {
        "id": "sCsBoULqkyo_"
      },
      "execution_count": 17,
      "outputs": []
    },
    {
      "cell_type": "code",
      "source": [
        "flt = data[:,2]"
      ],
      "metadata": {
        "id": "KOW26KWzk2_c"
      },
      "execution_count": 18,
      "outputs": []
    },
    {
      "cell_type": "code",
      "source": [
        "srt = data.copy()\n",
        "srt_new = srt[srt[:,2].argsort()[::-1]]"
      ],
      "metadata": {
        "id": "YBFJubbylAkV"
      },
      "execution_count": 19,
      "outputs": []
    },
    {
      "cell_type": "code",
      "source": [
        "srt_new"
      ],
      "metadata": {
        "id": "aBaDtetYlP9h",
        "colab": {
          "base_uri": "https://localhost:8080/"
        },
        "outputId": "7e18aaf6-b67f-4bf7-826c-9e7842772e06"
      },
      "execution_count": 20,
      "outputs": [
        {
          "output_type": "execute_result",
          "data": {
            "text/plain": [
              "array([[35, 90, 72, 80],\n",
              "       [40, 88, 69, 85],\n",
              "       [30, 85, 60, 74],\n",
              "       [28, 70, 50, 65],\n",
              "       [25, 78, 45, 62]])"
            ]
          },
          "metadata": {},
          "execution_count": 20
        }
      ]
    },
    {
      "cell_type": "markdown",
      "source": [
        "7. Rank Assignment: Assign ranks (1 being highest) to all people based on their Final Evaluation Score and\n",
        "append it as a new column."
      ],
      "metadata": {
        "id": "eKNkjd8elowX"
      }
    },
    {
      "cell_type": "code",
      "source": [
        "data"
      ],
      "metadata": {
        "id": "vHj4DlrYlqpr",
        "colab": {
          "base_uri": "https://localhost:8080/"
        },
        "outputId": "acc4ecab-9610-4b1e-92f0-f067e93f4192"
      },
      "execution_count": 21,
      "outputs": [
        {
          "output_type": "execute_result",
          "data": {
            "text/plain": [
              "array([[25, 78, 45, 62],\n",
              "       [30, 85, 60, 74],\n",
              "       [35, 90, 72, 80],\n",
              "       [28, 70, 50, 65],\n",
              "       [40, 88, 69, 85]])"
            ]
          },
          "metadata": {},
          "execution_count": 21
        }
      ]
    },
    {
      "cell_type": "code",
      "source": [
        "rank = data.copy()\n",
        "rank"
      ],
      "metadata": {
        "id": "VZxdQ1qnlQp2",
        "colab": {
          "base_uri": "https://localhost:8080/"
        },
        "outputId": "54fa06ce-c4f9-402c-9916-2d8a047f66c9"
      },
      "execution_count": 22,
      "outputs": [
        {
          "output_type": "execute_result",
          "data": {
            "text/plain": [
              "array([[25, 78, 45, 62],\n",
              "       [30, 85, 60, 74],\n",
              "       [35, 90, 72, 80],\n",
              "       [28, 70, 50, 65],\n",
              "       [40, 88, 69, 85]])"
            ]
          },
          "metadata": {},
          "execution_count": 22
        }
      ]
    },
    {
      "cell_type": "code",
      "source": [
        "rank_new = rank[:,-1]\n",
        "rank_new"
      ],
      "metadata": {
        "id": "SEtvHYXnl07-",
        "colab": {
          "base_uri": "https://localhost:8080/"
        },
        "outputId": "6c3dd259-7920-4326-f2f0-7983ecae0f70"
      },
      "execution_count": 23,
      "outputs": [
        {
          "output_type": "execute_result",
          "data": {
            "text/plain": [
              "array([62, 74, 80, 65, 85])"
            ]
          },
          "metadata": {},
          "execution_count": 23
        }
      ]
    },
    {
      "cell_type": "code",
      "source": [
        "sorted = rank_new.argsort()[::-1]+1\n",
        "sorted_new=sorted.reshape(-1, 1)"
      ],
      "metadata": {
        "id": "eWXHozxUl4S9"
      },
      "execution_count": 24,
      "outputs": []
    },
    {
      "cell_type": "code",
      "source": [
        "combined = np.hstack((rank, sorted_new))\n",
        "combined"
      ],
      "metadata": {
        "id": "EFF2vHfFl86L",
        "colab": {
          "base_uri": "https://localhost:8080/"
        },
        "outputId": "0f48a9c2-d2ad-4abe-8db0-7eb6e9d739da"
      },
      "execution_count": 25,
      "outputs": [
        {
          "output_type": "execute_result",
          "data": {
            "text/plain": [
              "array([[25, 78, 45, 62,  5],\n",
              "       [30, 85, 60, 74,  3],\n",
              "       [35, 90, 72, 80,  2],\n",
              "       [28, 70, 50, 65,  4],\n",
              "       [40, 88, 69, 85,  1]])"
            ]
          },
          "metadata": {},
          "execution_count": 25
        }
      ]
    },
    {
      "cell_type": "markdown",
      "source": [
        "8. Detect Outliers: Find rows where any score is more than 1.5 standard deviations from the column mean.\n",
        "Return those rows."
      ],
      "metadata": {
        "id": "YkeNVz0loTGT"
      }
    },
    {
      "cell_type": "code",
      "source": [
        "means = data.mean(axis=0)\n",
        "stds = data.std(axis=0)\n",
        "print(means)\n",
        "print(stds*1.5)\n",
        "outliers = []\n",
        "for row in data:\n",
        "    poss = np.abs(row-means)\n",
        "    if np.any(poss > 1.5*stds):\n",
        "        outliers.append(row)\n",
        "\n",
        "outliers = np.array(outliers)\n",
        "print(outliers)"
      ],
      "metadata": {
        "id": "CLGr8M7hmKj9",
        "colab": {
          "base_uri": "https://localhost:8080/"
        },
        "outputId": "8e4978b1-a6d9-45ef-bfbe-48d41e4996c8"
      },
      "execution_count": 26,
      "outputs": [
        {
          "output_type": "stream",
          "name": "stdout",
          "text": [
            "[31.6 82.2 59.2 73.2]\n",
            "[ 7.97119815 10.99818167 15.68629975 13.05603309]\n",
            "[[28 70 50 65]\n",
            " [40 88 69 85]]\n"
          ]
        }
      ]
    },
    {
      "cell_type": "code",
      "source": [
        "data"
      ],
      "metadata": {
        "id": "nJlpGAizo6KV",
        "colab": {
          "base_uri": "https://localhost:8080/"
        },
        "outputId": "c829c55b-e685-4df0-b9c5-a51761894350"
      },
      "execution_count": 27,
      "outputs": [
        {
          "output_type": "execute_result",
          "data": {
            "text/plain": [
              "array([[25, 78, 45, 62],\n",
              "       [30, 85, 60, 74],\n",
              "       [35, 90, 72, 80],\n",
              "       [28, 70, 50, 65],\n",
              "       [40, 88, 69, 85]])"
            ]
          },
          "metadata": {},
          "execution_count": 27
        }
      ]
    },
    {
      "cell_type": "markdown",
      "source": [
        "9. Weighted Total Score: Calculate a weighted total score using:\n",
        " - 30% from Test Score 1\n",
        " - 30% from Test Score 2\n",
        " - 40% from Final Evaluation Score\n",
        " Return a 1D array of the scores"
      ],
      "metadata": {
        "id": "HytrU6wwp_ng"
      }
    },
    {
      "cell_type": "code",
      "source": [
        "ws = 0.3*data[:,1] + 0.3*data[:,2] + 0.4*data[:,3]"
      ],
      "metadata": {
        "id": "p9K9TZFPpXW_"
      },
      "execution_count": 28,
      "outputs": []
    },
    {
      "cell_type": "code",
      "source": [
        "ws"
      ],
      "metadata": {
        "id": "MkLoKdsBpma3",
        "colab": {
          "base_uri": "https://localhost:8080/"
        },
        "outputId": "eecb6a06-cc51-4d3f-a79f-4ce8ad85b28e"
      },
      "execution_count": 29,
      "outputs": [
        {
          "output_type": "execute_result",
          "data": {
            "text/plain": [
              "array([61.7, 73.1, 80.6, 62. , 81.1])"
            ]
          },
          "metadata": {},
          "execution_count": 29
        }
      ]
    },
    {
      "cell_type": "code",
      "source": [
        "data"
      ],
      "metadata": {
        "id": "lLJx3mQbp1eF",
        "colab": {
          "base_uri": "https://localhost:8080/"
        },
        "outputId": "757dabb7-5b97-43ac-c36c-6fc57da71709"
      },
      "execution_count": 30,
      "outputs": [
        {
          "output_type": "execute_result",
          "data": {
            "text/plain": [
              "array([[25, 78, 45, 62],\n",
              "       [30, 85, 60, 74],\n",
              "       [35, 90, 72, 80],\n",
              "       [28, 70, 50, 65],\n",
              "       [40, 88, 69, 85]])"
            ]
          },
          "metadata": {},
          "execution_count": 30
        }
      ]
    },
    {
      "cell_type": "markdown",
      "source": [
        "[link text](https://)10. Row-wise Max Column Index: For each person (row), find the index of the column that contains their\n",
        "highest score."
      ],
      "metadata": {
        "id": "qC45aA1Fp-ZH"
      }
    },
    {
      "cell_type": "code",
      "source": [
        "max_indices = data.argmax(axis=1)\n",
        "print(max_indices.reshape(-1,1))"
      ],
      "metadata": {
        "id": "xRdEdDfQpoDA",
        "colab": {
          "base_uri": "https://localhost:8080/"
        },
        "outputId": "848f8dff-2807-404f-cb6c-7ae0208e16c3"
      },
      "execution_count": 31,
      "outputs": [
        {
          "output_type": "stream",
          "name": "stdout",
          "text": [
            "[[1]\n",
            " [1]\n",
            " [1]\n",
            " [1]\n",
            " [1]]\n"
          ]
        }
      ]
    },
    {
      "cell_type": "code",
      "source": [],
      "metadata": {
        "id": "iDdJQz7tpxmt"
      },
      "execution_count": 31,
      "outputs": []
    }
  ]
}