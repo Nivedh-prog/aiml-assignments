{
  "nbformat": 4,
  "nbformat_minor": 0,
  "metadata": {
    "colab": {
      "private_outputs": true,
      "provenance": [],
      "authorship_tag": "ABX9TyMWCAKBmMYTyGdgw8dYiD9l",
      "include_colab_link": true
    },
    "kernelspec": {
      "name": "python3",
      "display_name": "Python 3"
    },
    "language_info": {
      "name": "python"
    }
  },
  "cells": [
    {
      "cell_type": "markdown",
      "metadata": {
        "id": "view-in-github",
        "colab_type": "text"
      },
      "source": [
        "<a href=\"https://colab.research.google.com/github/Nivedh-prog/aiml-assignments/blob/main/python%2Bnumpy_assignment1.ipynb\" target=\"_parent\"><img src=\"https://colab.research.google.com/assets/colab-badge.svg\" alt=\"Open In Colab\"/></a>"
      ]
    },
    {
      "cell_type": "markdown",
      "source": [
        "#Home assignment"
      ],
      "metadata": {
        "id": "LcGsbAQxn6jH"
      }
    },
    {
      "cell_type": "code",
      "execution_count": null,
      "metadata": {
        "id": "NqEGLWQqn3Ca"
      },
      "outputs": [],
      "source": [
        "integer = 33\n",
        "floating = 3.3\n",
        "string = \"Hello world!\"\n",
        "boolean = True\n",
        "\n",
        "print(integer)\n",
        "print(type(integer))\n",
        "\n",
        "print(floating)\n",
        "print(type(floating))\n",
        "\n",
        "print(string)\n",
        "print(type(string))\n",
        "\n",
        "print(boolean)\n",
        "print(type(boolean))\n"
      ]
    },
    {
      "cell_type": "code",
      "source": [
        "text = \"Python programming is fun!\"\n",
        "\n",
        "uppercase_text = text.upper()\n",
        "print(uppercase_text)\n",
        "replaced_text = text.replace(\"fun\", \"powerful\")\n",
        "print(replaced_text)\n",
        "\n",
        "sliced_text = text[7:18]\n",
        "print(sliced_text)\n",
        "\n",
        "length = len(text)\n",
        "print(length)\n"
      ],
      "metadata": {
        "id": "pCA_MsfEpA9K"
      },
      "execution_count": null,
      "outputs": []
    },
    {
      "cell_type": "code",
      "source": [
        "numbers = [1,2,3,4,5]\n",
        "for num in numbers:\n",
        "  print(num)\n",
        "\n",
        "sum = 0\n",
        "i = 0\n",
        "while i < len(numbers):\n",
        "  sum += numbers[i]\n",
        "  i += 1\n",
        "print(\"Sum of numbers is \", sum)\n",
        "\n"
      ],
      "metadata": {
        "id": "HMnh8DHnpwbD"
      },
      "execution_count": null,
      "outputs": []
    },
    {
      "cell_type": "code",
      "source": [
        "try:\n",
        "  age = int(input(\"Enter your age: \"))\n",
        "  if age >= 18:\n",
        "      print(\"You are an adult.\")\n",
        "  else:\n",
        "      print(\"You are not an adult.\")\n",
        "except ValueError:\n",
        "  print(\"Invalid input.\")\n"
      ],
      "metadata": {
        "id": "E0XSbdpeqNHF"
      },
      "execution_count": null,
      "outputs": []
    },
    {
      "cell_type": "code",
      "source": [
        "def area(l, w):\n",
        "  return l*w\n",
        "\n",
        "print(\"Area 1:\",area(5, 10))\n",
        "print(\"Area 2:\",area(3.5, 2))"
      ],
      "metadata": {
        "id": "Juufcm7NqdAp"
      },
      "execution_count": null,
      "outputs": []
    },
    {
      "cell_type": "code",
      "source": [
        "students = {\n",
        "  \"Niv\": 100,\n",
        "  \"Niv2\": 0,\n",
        "  \"Niv3\": 50\n",
        "}\n",
        "\n",
        "students[\"Niv4\"] = 89\n",
        "students[\"Niv5\"] = 95\n",
        "\n",
        "for name, score in students.items():\n",
        "  print(name, \":\", score)"
      ],
      "metadata": {
        "id": "2fspQrzmqwdA"
      },
      "execution_count": null,
      "outputs": []
    },
    {
      "cell_type": "code",
      "source": [
        "with open(\"students.txt\", \"w\") as file:\n",
        "  file.write(\"Niv1\\n\")\n",
        "  file.write(\"niv2\\n\")\n",
        "  file.write(\"egfvbh\\n\")\n",
        "with open(\"students.txt\", \"r\") as file:\n",
        "  contents = file.read()\n",
        "  print(\"Contents are:\",contents)\n"
      ],
      "metadata": {
        "id": "r3BQtHNJrGgs"
      },
      "execution_count": null,
      "outputs": []
    },
    {
      "cell_type": "code",
      "source": [
        "try:\n",
        "  num1 = float(input(\"Enter numerator: \"))\n",
        "  num2 = float(input(\"Enter denominator: \"))\n",
        "  result = num1 / num2\n",
        "  print(result)\n",
        "except ZeroDivisionError:\n",
        "  print(\"Cannot divide by zero.\")"
      ],
      "metadata": {
        "id": "X87RInaariSH"
      },
      "execution_count": null,
      "outputs": []
    },
    {
      "cell_type": "code",
      "source": [
        "lst_tupl = [(\"x\",90),(\"b\",67),(\"c\",54),(\"d\",78),(\"a\",56)]\n",
        "s = sorted(lst_tupl, key=lambda x: x[1])\n",
        "names = list(map(lambda x: x[0], s))\n",
        "age = list(filter(lambda x: x[1] >= 30, s))"
      ],
      "metadata": {
        "id": "wbDhDzM6rx6W"
      },
      "execution_count": null,
      "outputs": []
    },
    {
      "cell_type": "code",
      "source": [
        "s"
      ],
      "metadata": {
        "id": "v3B0MzEBuw7Y"
      },
      "execution_count": null,
      "outputs": []
    },
    {
      "cell_type": "code",
      "source": [
        "names"
      ],
      "metadata": {
        "id": "amKp7zg9uxac"
      },
      "execution_count": null,
      "outputs": []
    },
    {
      "cell_type": "code",
      "source": [
        "age"
      ],
      "metadata": {
        "id": "iVPFE62guyHP"
      },
      "execution_count": null,
      "outputs": []
    },
    {
      "cell_type": "code",
      "source": [
        "even_numbers = [x for x in range(1, 101) if x % 2 == 0]\n",
        "mt = [[i * j for j in range(1, 6)] for i in range(1, 6)]\n",
        "\n",
        "print(\"Even numbers from 1 to 100:\", even_numbers)\n",
        "print(\"Multiplication table (1 to 5):\")\n",
        "for _ in mt:\n",
        "  print(_)"
      ],
      "metadata": {
        "id": "EN8NFjL0uy8n"
      },
      "execution_count": null,
      "outputs": []
    },
    {
      "cell_type": "code",
      "source": [
        "class Person:\n",
        "  def __init__(self, name, age):\n",
        "    self.name = name\n",
        "    self.age = age\n",
        "\n",
        "  def greet(self):\n",
        "    print(f\"Hi, my name is {self.name}.\")\n",
        "\n",
        "class Employee(Person):\n",
        "  def __init__(self, name, age, employee_id):\n",
        "    super().__init__(name, age)\n",
        "    self.employee_id = employee_id\n",
        "\n",
        "  def greet(self):\n",
        "    print(f\"Hi, my name is {self.name}, my age is {self.age} my employee ID is {self.employee_id}.\")\n",
        "\n",
        "p = Person(\"nivedh\", 00)\n",
        "e = Employee(\"nivedh2\", 32, \"eid\")\n",
        "\n",
        "p.greet()\n",
        "e.greet()"
      ],
      "metadata": {
        "id": "m6tfk7xlvLqM"
      },
      "execution_count": null,
      "outputs": []
    },
    {
      "cell_type": "code",
      "source": [
        "def generator(n):\n",
        "  a, b = 0, 1\n",
        "  for _ in range(n):\n",
        "    yield a\n",
        "    a, b = b, a + b\n",
        "for num in generator(10):\n",
        "  print(num)"
      ],
      "metadata": {
        "id": "ThUKaGjZvl8S"
      },
      "execution_count": null,
      "outputs": []
    },
    {
      "cell_type": "code",
      "source": [
        "class InvalidAgeError(Exception):\n",
        "  pass\n",
        "\n",
        "def validate_age(age):\n",
        "  if age < 0 or age > 150:\n",
        "    raise InvalidAgeError(\"Age must be between 0 and 150.\")\n",
        "  else:\n",
        "    print(age,\" is valid.\")\n",
        "\n",
        "try:\n",
        "  validate_age(25)\n",
        "  validate_age(-5)\n",
        "except InvalidAgeError as e:\n",
        "  print(\"InvalidAgeError:\", e)"
      ],
      "metadata": {
        "id": "yhJL6LxBwLPF"
      },
      "execution_count": null,
      "outputs": []
    },
    {
      "cell_type": "code",
      "source": [
        "import json\n",
        "\n",
        "book = {\n",
        "\"title\": \"trgtg\",\n",
        "\"author\": \"dfgvdfg\",\n",
        "\"year\": 2000\n",
        "}\n",
        "\n",
        "with open(\"book.json\", \"w\") as file:\n",
        "  json_string = json.dumps(book)\n",
        "  file.write(json_string)\n",
        "\n",
        "with open(\"book.json\", \"r\") as file:\n",
        "  data = file.read()\n",
        "  book_dict = json.loads(data)\n",
        "\n",
        "print(\"json string is \", json_string)\n",
        "print(\"dictionary from JSON is \", book_dict)\n"
      ],
      "metadata": {
        "id": "pIwEU3DPwhgd"
      },
      "execution_count": null,
      "outputs": []
    },
    {
      "cell_type": "code",
      "source": [
        "import threading\n",
        "import time\n",
        "\n",
        "def numbers():\n",
        "  for i in range(1, 11):\n",
        "    print(i)\n",
        "    time.sleep(1)\n",
        "\n",
        "thread1 = threading.Thread(target=numbers)\n",
        "thread2 = threading.Thread(target=numbers)\n",
        "\n",
        "thread1.start()\n",
        "thread2.start()\n",
        "thread1.join()\n",
        "thread2.join()\n"
      ],
      "metadata": {
        "id": "337l-FJIxUHP"
      },
      "execution_count": null,
      "outputs": []
    },
    {
      "cell_type": "code",
      "source": [
        "import sys\n",
        "\n",
        "if len(sys.argv) == 3:\n",
        "    try:\n",
        "        num1 = float(sys.argv[1])\n",
        "        num2 = float(sys.argv[2])\n",
        "        print(\"Product:\", num1 * num2)\n",
        "    except ValueError:\n",
        "        print(\"Please provide valid numbers.\")\n",
        "else:\n",
        "    print(\"Please provide exactly two numbers as arguments.\")\n"
      ],
      "metadata": {
        "id": "fLyG_w3Ixl26"
      },
      "execution_count": null,
      "outputs": []
    },
    {
      "cell_type": "code",
      "source": [
        "del input"
      ],
      "metadata": {
        "id": "Do-u1wpCyNNC"
      },
      "execution_count": null,
      "outputs": []
    },
    {
      "cell_type": "code",
      "source": [
        "students = {}\n",
        "\n",
        "def display_menu():\n",
        "  print(\"1) add a new student\")\n",
        "  print(\"2) update student grade\")\n",
        "  print(\"3) view all students\")\n",
        "  print(\"4) calculate class average\")\n",
        "  print(\"5) find the highest and lowest grades\")\n",
        "  print(\"6) save student data to a file\")\n",
        "  print(\"7) load student data from a file\")\n",
        "  print(\"8) exit the program\")\n",
        "\n",
        "def add_stud():\n",
        "  name = input(\"Enter student name: \")\n",
        "  if name in students:\n",
        "    print(\"Student already exists.\")\n",
        "    return\n",
        "  try:\n",
        "    age = int(input(\"Enter student age: \"))\n",
        "    grade = float(input(\"Enter student grade: \"))\n",
        "    students[name] = {\"age\": age, \"grade\": grade}\n",
        "    print(f\"Student {name} added successfully.\")\n",
        "  except ValueError:\n",
        "    print(\"Invalid input\")\n",
        "\n",
        "def update_grade():\n",
        "  name = input(\"Enter student name to update: \")\n",
        "  if name in students:\n",
        "    try:\n",
        "      new_grade = float(input(f\"Enter new grade for {name}: \"))\n",
        "      students[name][\"grade\"] = new_grade\n",
        "      print(f\"Grade updated for {name}.\")\n",
        "    except ValueError:\n",
        "      print(\"Invalid grade input. Please enter a valid number.\")\n",
        "  else:\n",
        "    print(\"Student not found.\")\n",
        "\n",
        "def view_students():\n",
        "  if not students:\n",
        "    print(\"No students in the system.\")\n",
        "    return\n",
        "  print(\"\\nList of Students:\")\n",
        "  for name, data in students.items():\n",
        "    print(f\"Name: {name}, Age: {data['age']}, Grade: {data['grade']}\")\n",
        "\n",
        "def calculate_average():\n",
        "  if not students:\n",
        "    print(\"No students to calculate average.\")\n",
        "    return\n",
        "  total = sum(i['grade'] for i in students.values())\n",
        "  average = total / len(students)\n",
        "  print(f\"Class average grade: {average:.2f}\")\n",
        "\n",
        "def find_highest_lowest():\n",
        "  if students:\n",
        "    grades = {name: data['grade'] for name, data in students.items()}\n",
        "    highest = max(grades, key=grades.get)\n",
        "    lowest = min(grades, key=grades.get)\n",
        "    print(f\"Highest Grade: {highest} - {grades[highest]}\")\n",
        "    print(f\"Lowest Grade: {lowest} - {grades[lowest]}\")\n",
        "  else:\n",
        "    print(\"No students to evaluate.\")\n",
        "\n",
        "def save_to_file():\n",
        "  try:\n",
        "    with open(\"students.txt\", \"w\") as file:\n",
        "      for name, data in students.items():\n",
        "        file.write(f\"{name},{data['age']},{data['grade']}\\n\")\n",
        "    print(\"Data saved successfully.\")\n",
        "  except Exception:\n",
        "    print(\"Error saving file.\")\n",
        "\n",
        "def load_from_file():\n",
        "  try:\n",
        "    with open(\"students.txt\", \"r\") as file:\n",
        "      for line in file:\n",
        "        try:\n",
        "          name, age, grade = line.strip().split(\",\")\n",
        "          students[name] = {\"age\": int(age), \"grade\": float(grade)}\n",
        "        except ValueError:\n",
        "          print(f\"Skipping invalid data: {line.strip()}\")\n",
        "    print(\"Data loaded successfully.\")\n",
        "  except FileNotFoundError:\n",
        "      print(\"students.txt file not found.\")\n",
        "  except Exception as e:\n",
        "      print(f\"Error loading file: {e}\")\n",
        "\n",
        "def main():\n",
        "  while True:\n",
        "    display_menu()\n",
        "    choice = input(\"Enter your choice: \")\n",
        "    if choice == '1':\n",
        "        add_stud()\n",
        "    elif choice == '2':\n",
        "        update_grade()\n",
        "    elif choice == '3':\n",
        "        view_students()\n",
        "    elif choice == '4':\n",
        "        calculate_average()\n",
        "    elif choice == '5':\n",
        "        find_highest_lowest()\n",
        "    elif choice == '6':\n",
        "        save_to_file()\n",
        "    elif choice == '7':\n",
        "        load_from_file()\n",
        "    elif choice == '8':\n",
        "        print(\"Exiting program\")\n",
        "        break\n",
        "    else:\n",
        "        print(\"Invalid choice!\")\n",
        "\n",
        "if __name__ == \"__main__\":\n",
        "  main()"
      ],
      "metadata": {
        "id": "m3NChTbS0mdD"
      },
      "execution_count": null,
      "outputs": []
    },
    {
      "cell_type": "code",
      "source": [
        "import numpy as np\n",
        "\n",
        "arr = np.arange(20)\n",
        "reshaped_arr = arr.reshape(4, 5)\n",
        "print(reshaped_arr)"
      ],
      "metadata": {
        "id": "GUVJjOLcHCJ_"
      },
      "execution_count": null,
      "outputs": []
    },
    {
      "cell_type": "code",
      "source": [
        "even_numbers = np.arange(22, 71, 2)\n",
        "print(\"Even numbers are \", even_numbers)"
      ],
      "metadata": {
        "id": "QGL2LqqpHZBb"
      },
      "execution_count": null,
      "outputs": []
    },
    {
      "cell_type": "code",
      "source": [
        "odd_numbers = np.arange(21, 72, 2)\n",
        "odd_numbers"
      ],
      "metadata": {
        "id": "ySXo0u5ZHyTu"
      },
      "execution_count": null,
      "outputs": []
    },
    {
      "cell_type": "code",
      "source": [
        "random_array = np.random.randint(0, 100, 15)\n",
        "sorted_array = np.sort(random_array)\n",
        "sorted_array"
      ],
      "metadata": {
        "id": "iL_w_g1AHzDu"
      },
      "execution_count": null,
      "outputs": []
    },
    {
      "cell_type": "code",
      "source": [
        "zeros = np.zeros(10, dtype=int)\n",
        "zeros[4] = 1\n",
        "zeros"
      ],
      "metadata": {
        "id": "Pk5I4pjMH8YY"
      },
      "execution_count": null,
      "outputs": []
    },
    {
      "cell_type": "code",
      "source": [
        "arr = np.array([1, 2, 2, 3, 4, 4, 5])\n",
        "unique_elements = np.unique(arr)\n",
        "unique_elements"
      ],
      "metadata": {
        "id": "6eggk-exII2J"
      },
      "execution_count": null,
      "outputs": []
    },
    {
      "cell_type": "code",
      "source": [
        "arr = np.arange(11)\n",
        "reversed_arr = arr[::-1]\n",
        "reversed_arr"
      ],
      "metadata": {
        "id": "eXEPlA3ZITID"
      },
      "execution_count": null,
      "outputs": []
    },
    {
      "cell_type": "code",
      "source": [
        "import numpy as np\n",
        "\n",
        "birds = ['spoonbills', 'plovers', 'plovers', 'plovers', 'plovers', 'Cranes', 'plovers', 'plovers', 'Cranes', 'spoonbills']\n",
        "age = [5.5, 6.0, 3.5, 1.5, 3.0, 4.0, 3.5, 2.0, 5.5, 6.0]\n",
        "crane_ages = []\n",
        "for i in range(len(birds)):\n",
        "    if birds[i] == 'Cranes':\n",
        "        crane_ages.append(age[i])\n",
        "\n",
        "mean_crane_age = round(np.mean(crane_ages), 2)\n",
        "print(\"Mean age of Cranes:\", mean_crane_age)\n",
        "max_age = age[0]\n",
        "oldest_bird = birds[0]\n",
        "for i in range(1, 10):\n",
        "    if age[i] > max_age:\n",
        "        max_age = age[i]\n",
        "        oldest_bird = birds[i]\n",
        "\n",
        "print(\"Oldest bird:\", oldest_bird)"
      ],
      "metadata": {
        "id": "IWHtsa24IemW"
      },
      "execution_count": null,
      "outputs": []
    },
    {
      "cell_type": "code",
      "source": [
        "dim_arr = np.zeros(shape=(4,4),dtype='int')\n",
        "dim_arr\n",
        "for i in range(0,4):\n",
        "  for j in range(0,4):\n",
        "    if i == j:\n",
        "      dim_arr[i][j]=7\n",
        "print(dim_arr)"
      ],
      "metadata": {
        "id": "6Z7ARgJ7JVfx"
      },
      "execution_count": null,
      "outputs": []
    },
    {
      "cell_type": "code",
      "source": [
        "arr1r = int(input(\"Enter rows for matrix 1 :\"))\n",
        "arr1c = int(input(\"Enter clumns for matrix 1 :\"))\n",
        "arr2r = int(input(\"Enter rows for matrix 2 :\"))\n",
        "arr2c = int(input(\"Enter columns for matrix 2 :\"))\n",
        "\n",
        "array1 = np.zeros((arr1r, arr1c))\n",
        "array2= np.zeros((arr2r, arr2c))\n",
        "\n",
        "\n",
        "for i in range(0,arr1c):\n",
        "  for j in range(0,arr1r):\n",
        "    inp = int(input(f\"Enter array 1 element [{i}],[{j}]\"))\n",
        "    array1[i][j] = inp\n",
        "for i in range(0,arr1c):\n",
        "  for j in range(0,arr1r):\n",
        "    inp = int(input(f\"Enter array 2 element [{i}],[{j}]\"))\n",
        "    array2[i][j] = inp\n",
        "try:\n",
        "  result = array1*array2\n",
        "  print(f\"Product of {array1} and {array2} is \\n{result}\")\n",
        "except:\n",
        "  print(\"Array multiplication not possible\")\n"
      ],
      "metadata": {
        "id": "fRqBFBuQPqXt"
      },
      "execution_count": null,
      "outputs": []
    },
    {
      "cell_type": "code",
      "source": [
        "matrix = np.random.rand(6, 6)\n",
        "print(\"matrix is : \",matrix)\n",
        "print(np.mean(matrix))\n",
        "print(np.std(matrix))"
      ],
      "metadata": {
        "id": "QItlpIxmRIZf"
      },
      "execution_count": null,
      "outputs": []
    },
    {
      "cell_type": "code",
      "source": [
        "import numpy as np\n",
        "arr1r = int(input(\"Enter rows for matrix 1 :\"))\n",
        "arr1c = int(input(\"Enter clumns for matrix 1 :\"))\n",
        "arr2r = int(input(\"Enter rows for matrix 2 :\"))\n",
        "arr2c = int(input(\"Enter columns for matrix 2 :\"))\n",
        "\n",
        "array1 = np.zeros((arr1r, arr1c),dtype=int)\n",
        "array2= np.zeros((arr2r, arr2c),dtype=int)\n",
        "\n",
        "for i in range(0,arr1r):\n",
        "  for j in range(0,arr1c):\n",
        "    inp = int(input(f\"Enter array 1 element [{i}],[{j}]\"))\n",
        "    array1[i][j] = inp\n",
        "for i in range(0,arr1r):\n",
        "  for j in range(0,arr1c):\n",
        "    inp = int(input(f\"Enter array 2 element [{i}],[{j}]\"))\n",
        "    array2[i][j] = inp\n",
        "\n",
        "try:\n",
        "  hst=np.hstack((array1,array2))\n",
        "  vst=np.vstack((array1,array2))\n",
        "  print(array1)\n",
        "  print(array2)\n",
        "  print(\"hstack is : \",hst)\n",
        "  print(\"vstack is : \",vst)\n",
        "except Exception as e:\n",
        "  print(\"Array size not same\",e)\n",
        "\n"
      ],
      "metadata": {
        "id": "oWDi8ClaUXew"
      },
      "execution_count": null,
      "outputs": []
    },
    {
      "cell_type": "code",
      "source": [
        "matrix = np.random.rand(50)\n",
        "len(matrix)\n",
        "lst = [x for x in matrix if x>0.5]\n",
        "print(lst)"
      ],
      "metadata": {
        "id": "FVUloXm5VBHm"
      },
      "execution_count": null,
      "outputs": []
    },
    {
      "cell_type": "code",
      "source": [
        "birds = ['spoonbills', 'plovers', 'plovers', 'plovers', 'plovers', 'Cranes', 'plovers', 'plovers',\n",
        "'Cranes', 'spoonbills']\n",
        "age = [5.5, 6.0, 3.5, 1.5, 3.0, 4.0, 3.5, 2.0, 5.5, 6.0]\n",
        "\n",
        "bird_array = np.array(birds)\n",
        "age_array = np.array(age)\n",
        "\n",
        "sorted_indice = np.argsort(age_array)\n",
        "sorted_indice\n",
        "print(bird_array[sorted_indice])"
      ],
      "metadata": {
        "id": "pWexrCjrV5Bu"
      },
      "execution_count": null,
      "outputs": []
    },
    {
      "cell_type": "code",
      "source": [
        "shape = int(input(\"Enter shape\").split())\n",
        "print(shape)\n",
        "\n",
        "range = int(input(\"Enter low and high\")).split()\n",
        "print(range)\n",
        "\n",
        "arr = np.random.randint(low, high + 1, size=shape)\n",
        "print(\"Generated Array:\\n\", arr)\n"
      ],
      "metadata": {
        "id": "Ctia2k2PZ9SU"
      },
      "execution_count": null,
      "outputs": []
    },
    {
      "cell_type": "code",
      "source": [
        "arr = np.random.randint(0,100,size=(10,10))\n",
        "max = arr[0][0]\n",
        "max_arr = [0,0,0]\n",
        "for i in range(0,10):\n",
        "  for j in range(0,10):\n",
        "    if arr[i][j]>np.min(max_arr):\n",
        "      index = np.argmin(max_arr)\n",
        "      max_arr[index] = arr[i][j]\n",
        "print(arr)\n",
        "print(max_arr)"
      ],
      "metadata": {
        "id": "wOMBQ8apb-zT"
      },
      "execution_count": null,
      "outputs": []
    },
    {
      "cell_type": "code",
      "source": [
        "arr2 = np.zeros((10),dtype=int)\n",
        "print(arr2)\n",
        "arr2[0]"
      ],
      "metadata": {
        "id": "cerDzcqnc-Gz"
      },
      "execution_count": null,
      "outputs": []
    },
    {
      "cell_type": "markdown",
      "source": [
        "2x + 3y + 1 = 1\n",
        "4x + y + 2 = 2\n",
        "3x + 2y + 3 = 3"
      ],
      "metadata": {
        "id": "SpTFsZQYmwd4"
      }
    },
    {
      "cell_type": "code",
      "source": [
        "import numpy as np\n",
        "a = np.array([\n",
        "    [2, 3, 1],\n",
        "    [4, 1, 2],\n",
        "    [3, 2, 3]\n",
        "])\n",
        "b = np.array([1, 2, 3])\n",
        "res = np.linalg.solve(a,b)\n",
        "print(\"solution is\", res)\n"
      ],
      "metadata": {
        "id": "Ykx1XnMugjQh"
      },
      "execution_count": null,
      "outputs": []
    },
    {
      "cell_type": "code",
      "source": [
        "import numpy as np\n",
        "\n",
        "a = np.random.rand(8, 8)\n",
        "eigenvalues, eigenvectors = np.linalg.eig(A)\n",
        "print(\"Eigenvalues:\\n\", eigenvalues)\n",
        "print(\"\\nEigenvectors (each column corresponds to an eigenvector):\\n\", eigenvectors)\n"
      ],
      "metadata": {
        "id": "Z4xXj1vdmdB0"
      },
      "execution_count": null,
      "outputs": []
    },
    {
      "cell_type": "code",
      "source": [
        "mat = np.random.randint(0,100,size=(1000,1000))"
      ],
      "metadata": {
        "id": "E2Gs490BnFUz"
      },
      "execution_count": null,
      "outputs": []
    },
    {
      "cell_type": "code",
      "source": [
        "import time\n",
        "start=time.time()\n",
        "print(np.sum(mat))\n",
        "print(time.time()-start)"
      ],
      "metadata": {
        "id": "bM2c80mtnMC0"
      },
      "execution_count": null,
      "outputs": []
    },
    {
      "cell_type": "code",
      "source": [
        "start = time.time()\n",
        "manual = 0\n",
        "for i in range(1000):\n",
        "    for j in range(1000):\n",
        "        manual += mat[i][j]\n",
        "print(time.time()-start)\n",
        "print(manual)"
      ],
      "metadata": {
        "id": "Bdt2WI4TnN8m"
      },
      "execution_count": null,
      "outputs": []
    },
    {
      "cell_type": "code",
      "source": [
        "import numpy as np\n",
        "import time\n",
        "A = np.random.rand(500, 500)\n",
        "B = np.random.rand(500, 500)\n",
        "start = time.time()\n",
        "result = np.zeros((500, 500))\n",
        "\n",
        "for i in range(500):\n",
        "    for j in range(500):\n",
        "        for k in range(500):\n",
        "            result[i][j] += A[i][k] * B[k][j]\n",
        "end = time.time()\n",
        "start_np = time.time()\n",
        "result_np = np.dot(A, B)\n",
        "print(f\"dot() takes {time.time() - start_np} seconds\")\n",
        "print(f\"manual takes {end - start} seconds\")\n",
        "\n"
      ],
      "metadata": {
        "id": "Eq7_15Wynvv-"
      },
      "execution_count": null,
      "outputs": []
    },
    {
      "cell_type": "code",
      "source": [],
      "metadata": {
        "id": "107h_LiKwnvp"
      },
      "execution_count": null,
      "outputs": []
    }
  ]
}