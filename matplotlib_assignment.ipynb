{
  "nbformat": 4,
  "nbformat_minor": 0,
  "metadata": {
    "colab": {
      "private_outputs": true,
      "provenance": [],
      "authorship_tag": "ABX9TyPEGux8Icp5/Knj/lmBG2CR",
      "include_colab_link": true
    },
    "kernelspec": {
      "name": "python3",
      "display_name": "Python 3"
    },
    "language_info": {
      "name": "python"
    }
  },
  "cells": [
    {
      "cell_type": "markdown",
      "metadata": {
        "id": "view-in-github",
        "colab_type": "text"
      },
      "source": [
        "<a href=\"https://colab.research.google.com/github/Nivedh-prog/aiml-assignments/blob/main/matplotlib_assignment.ipynb\" target=\"_parent\"><img src=\"https://colab.research.google.com/assets/colab-badge.svg\" alt=\"Open In Colab\"/></a>"
      ]
    },
    {
      "cell_type": "code",
      "execution_count": null,
      "metadata": {
        "id": "IjpTfm8ll73o"
      },
      "outputs": [],
      "source": [
        "import pandas as pd"
      ]
    },
    {
      "cell_type": "code",
      "source": [],
      "metadata": {
        "id": "SAnSx4QmV8K3"
      },
      "execution_count": null,
      "outputs": []
    },
    {
      "cell_type": "code",
      "source": [
        "df = pd.read_csv('/content/matches.csv')"
      ],
      "metadata": {
        "id": "rcFGQ232nusi"
      },
      "execution_count": null,
      "outputs": []
    },
    {
      "cell_type": "code",
      "source": [
        "df"
      ],
      "metadata": {
        "id": "iusYTCdvnzHg"
      },
      "execution_count": null,
      "outputs": []
    },
    {
      "cell_type": "code",
      "source": [
        "home_goals = df.groupby('home_team')['home_score'].sum()\n",
        "home_goals"
      ],
      "metadata": {
        "id": "Gajs3l1Sn1r7"
      },
      "execution_count": null,
      "outputs": []
    },
    {
      "cell_type": "code",
      "source": [
        "away_goals = df.groupby('away_team')['away_score'].sum()\n",
        "away_goals"
      ],
      "metadata": {
        "id": "jMg2NLiGpY4N"
      },
      "execution_count": null,
      "outputs": []
    },
    {
      "cell_type": "code",
      "source": [
        "total_goals = home_goals.add(away_goals)\n",
        "total_goals.sort_values(ascending=False)"
      ],
      "metadata": {
        "id": "-6Vt6ZVIpjAC"
      },
      "execution_count": null,
      "outputs": []
    },
    {
      "cell_type": "code",
      "source": [
        "total_goals"
      ],
      "metadata": {
        "id": "U3vjzifKsaEl"
      },
      "execution_count": null,
      "outputs": []
    },
    {
      "cell_type": "code",
      "source": [
        "df.columns"
      ],
      "metadata": {
        "id": "9k_AbYquqbMw"
      },
      "execution_count": null,
      "outputs": []
    },
    {
      "cell_type": "code",
      "source": [
        "total_gdf = pd.DataFrame({\"Team\":total_goals.index,\"Goals\":total_goals.values})\n",
        "total_gdf"
      ],
      "metadata": {
        "id": "ehjmqZIxr0ZH"
      },
      "execution_count": null,
      "outputs": []
    },
    {
      "cell_type": "code",
      "source": [
        "import matplotlib.pyplot as plt\n",
        "fig = plt.figure(figsize=(12,8))\n",
        "plt.bar(total_gdf[\"Team\"], total_gdf[\"Goals\"])"
      ],
      "metadata": {
        "id": "ssglM6OdvNn2"
      },
      "execution_count": null,
      "outputs": []
    },
    {
      "cell_type": "code",
      "source": [
        "# Replace NaN\n",
        "df['home_yellow_card_long'] = df['home_yellow_card_long'].fillna('')\n",
        "df['away_yellow_card_long'] = df['away_yellow_card_long'].fillna('')\n",
        "\n",
        "# Count yellow cards\n",
        "df['home_yellow_count'] = df['home_yellow_card_long'].apply(lambda x: len(x.split(',')) if x != '' else 0)\n",
        "df['away_yellow_count'] = df['away_yellow_card_long'].apply(lambda x: len(x.split(',')) if x != '' else 0)\n",
        "\n",
        "# Group by team\n",
        "home_yellows = df.groupby('home_team')['home_yellow_count'].sum()\n",
        "away_yellows = df.groupby('away_team')['away_yellow_count'].sum()\n",
        "\n",
        "# Total\n",
        "total_yellows = home_yellows.add(away_yellows, fill_value=0)\n",
        "\n",
        "# Sort\n",
        "total_yellows_sorted = total_yellows.sort_values(ascending=False)\n",
        "\n",
        "# Plot\n",
        "plt.figure(figsize=(12, 6))\n",
        "plt.bar(total_yellows_sorted.index, total_yellows_sorted.values, color='orange')\n",
        "plt.xticks(rotation=90)\n",
        "plt.xlabel(\"Team\")\n",
        "plt.ylabel(\"Total Yellow Cards\")\n",
        "plt.title(\"Yellow Cards Received by Each Team\")\n",
        "plt.show()"
      ],
      "metadata": {
        "id": "c2KIyy6-p1rf"
      },
      "execution_count": null,
      "outputs": []
    },
    {
      "cell_type": "code",
      "source": [
        "df.columns\n"
      ],
      "metadata": {
        "id": "LgpLasvQ1ih0"
      },
      "execution_count": null,
      "outputs": []
    },
    {
      "cell_type": "code",
      "source": [
        "df['home_goal']"
      ],
      "metadata": {
        "id": "HfIZG4M433hd"
      },
      "execution_count": null,
      "outputs": []
    },
    {
      "cell_type": "code",
      "source": [
        "df"
      ],
      "metadata": {
        "id": "qYtzXPNM4fTh"
      },
      "execution_count": null,
      "outputs": []
    },
    {
      "cell_type": "code",
      "source": [
        "df['away_goal'].iloc[3]"
      ],
      "metadata": {
        "id": "awRXK8y54kpA"
      },
      "execution_count": null,
      "outputs": []
    },
    {
      "cell_type": "code",
      "source": [
        "import numpy as np\n",
        "\n",
        "ab = [\n",
        "    df['home_score'] > df['away_score'],\n",
        "    df['home_score'] < df['away_score'],\n",
        "    df['home_score'] == df['away_score']\n",
        "]\n",
        "\n",
        "choices = ['win', 'lose', 'draw']\n",
        "\n",
        "df['result'] = np.select(ab, choices,default='')\n"
      ],
      "metadata": {
        "id": "goOztfLz5CSl"
      },
      "execution_count": null,
      "outputs": []
    },
    {
      "cell_type": "code",
      "source": [
        "df['result']"
      ],
      "metadata": {
        "id": "ejFfULGrA9ae"
      },
      "execution_count": null,
      "outputs": []
    },
    {
      "cell_type": "code",
      "source": [],
      "metadata": {
        "id": "hWzZaBCwCWlP"
      },
      "execution_count": null,
      "outputs": []
    },
    {
      "cell_type": "code",
      "source": [
        "df"
      ],
      "metadata": {
        "id": "DKE1Tv8hCW6N"
      },
      "execution_count": null,
      "outputs": []
    },
    {
      "cell_type": "code",
      "source": [
        "df.groupby(\"home_team\")[\"result\"].value_counts().unstack(fill_value=0)"
      ],
      "metadata": {
        "id": "Vb0Izn9wBajZ"
      },
      "execution_count": null,
      "outputs": []
    },
    {
      "cell_type": "code",
      "source": [
        "plot_data = df.groupby(\"home_team\")[\"result\"].value_counts().unstack(fill_value=0)\n",
        "plot_data.plot(kind='bar', stacked=True, figsize=(15, 7), colormap='Set2')\n",
        "plt.title(\"Match Results by Home Team (Stacked Bar)\")\n",
        "plt.xlabel(\"Home Team\")\n",
        "plt.ylabel(\"Count of Results\")\n",
        "plt.legend(title=\"Result\", loc=\"upper right\")\n",
        "plt.xticks(rotation=90)\n",
        "plt.tight_layout()\n",
        "plt.show()\n"
      ],
      "metadata": {
        "id": "w73tub7ZGPme"
      },
      "execution_count": null,
      "outputs": []
    },
    {
      "cell_type": "code",
      "source": [
        "df.columns"
      ],
      "metadata": {
        "id": "GoG7NESRB5KA"
      },
      "execution_count": null,
      "outputs": []
    },
    {
      "cell_type": "code",
      "source": [
        "print(df[\"Notes\"].dropna().unique())"
      ],
      "metadata": {
        "id": "qB5AhcntW_-3"
      },
      "execution_count": null,
      "outputs": []
    },
    {
      "cell_type": "code",
      "source": [
        "df.columns"
      ],
      "metadata": {
        "id": "9z6UTgRiebOz"
      },
      "execution_count": null,
      "outputs": []
    },
    {
      "cell_type": "code",
      "source": [
        "final_df = df[df['Round']=='Final']\n",
        "final_df[['Round','home_team','away_team','result','Notes']]"
      ],
      "metadata": {
        "id": "Z9cvkrWSedNP"
      },
      "execution_count": null,
      "outputs": []
    },
    {
      "cell_type": "code",
      "source": [
        "for idx, row in df.iterrows():\n",
        "  if row['result'] == 'draw' and pd.notna(row['Notes']):\n",
        "    notes = row['Notes']\n",
        "    if row['home_team'] in notes:\n",
        "      df.at[idx, 'result'] = 'win'\n",
        "    elif row['away_team'] in notes:\n",
        "      df.at[idx, 'result'] = 'lose'\n"
      ],
      "metadata": {
        "id": "YPSwbDjMev4y"
      },
      "execution_count": null,
      "outputs": []
    },
    {
      "cell_type": "code",
      "source": [
        "teams = []\n",
        "for idx, row in final_df.iterrows():\n",
        "  if row['result'] == 'win':\n",
        "    teams.append(final_df.at[idx,'home_team'])\n",
        "  else:\n",
        "    teams.append(final_df.at[idx,'away_team'])\n",
        "print(teams)\n"
      ],
      "metadata": {
        "id": "HjXqLqE-lDv9"
      },
      "execution_count": null,
      "outputs": []
    },
    {
      "cell_type": "code",
      "source": [
        "team_counts = pd.Series(teams).value_counts()\n",
        "print(team_counts)\n"
      ],
      "metadata": {
        "id": "UNxtKTMMmhU0"
      },
      "execution_count": null,
      "outputs": []
    },
    {
      "cell_type": "code",
      "source": [
        "team_counts_df = pd.DataFrame(team_counts)"
      ],
      "metadata": {
        "id": "ZmT9Fb9Io_Af"
      },
      "execution_count": null,
      "outputs": []
    },
    {
      "cell_type": "code",
      "source": [
        "import matplotlib.pyplot as plt\n"
      ],
      "metadata": {
        "id": "zseHxTYNpnN1"
      },
      "execution_count": null,
      "outputs": []
    },
    {
      "cell_type": "code",
      "source": [
        "team_counts_df.index"
      ],
      "metadata": {
        "id": "tP1y2Efup-L_"
      },
      "execution_count": null,
      "outputs": []
    },
    {
      "cell_type": "code",
      "source": [
        "plt.pie(team_counts_df['count'], labels = team_counts_df.index)\n",
        "plt.show()"
      ],
      "metadata": {
        "id": "2-2gp9bzpbwu"
      },
      "execution_count": null,
      "outputs": []
    },
    {
      "cell_type": "code",
      "source": [
        "final_df = df[df['Round']=='Final']\n",
        "final_df[['Round','home_team','away_team','result','Notes']]\n",
        "final_df"
      ],
      "metadata": {
        "id": "4WVF_TgsgIsy"
      },
      "execution_count": null,
      "outputs": []
    },
    {
      "cell_type": "code",
      "source": [
        "all_teams = pd.concat([final_df['home_team'], final_df['away_team']]).unique()\n",
        "print(all_teams)\n"
      ],
      "metadata": {
        "id": "5uaA1PNpg7o9"
      },
      "execution_count": null,
      "outputs": []
    },
    {
      "cell_type": "code",
      "source": [
        "for idx, row in final_df.iterrows():\n",
        "  print(idx)\n"
      ],
      "metadata": {
        "id": "OBI1TG3TiDWj"
      },
      "execution_count": null,
      "outputs": []
    },
    {
      "cell_type": "code",
      "source": [
        "final_df"
      ],
      "metadata": {
        "id": "b_oIS8qWj5qY"
      },
      "execution_count": null,
      "outputs": []
    },
    {
      "cell_type": "code",
      "source": [
        "df = pd.read_csv(\"/content/MentalHealthinPregnancyDuringCovid.csv\")"
      ],
      "metadata": {
        "id": "BXWHrWjym7XQ"
      },
      "execution_count": null,
      "outputs": []
    },
    {
      "cell_type": "code",
      "source": [
        "df"
      ],
      "metadata": {
        "id": "RQtOhfVyuAtI"
      },
      "execution_count": null,
      "outputs": []
    },
    {
      "cell_type": "code",
      "source": [
        "df.dtypes"
      ],
      "metadata": {
        "id": "QWbXatOq1QYu"
      },
      "execution_count": null,
      "outputs": []
    },
    {
      "cell_type": "code",
      "source": [
        "import matplotlib.pyplot as plt\n",
        "import seaborn as sns\n",
        "import pandas as pd\n",
        "\n",
        "selected_columns = df.columns\n",
        "\n",
        "numerical_columns = [col for col in selected_columns if pd.api.types.is_numeric_dtype(df[col])]\n",
        "\n",
        "plt.figure(figsize=(20, 10))\n",
        "for i, col in enumerate(numerical_columns, 1):\n",
        "    plt.subplot(2, 5, i)\n",
        "    sns.kdeplot(data=df[col].fillna(df[col].median()), fill=True)\n",
        "    plt.title(f'Distribution of {col}')\n",
        "    plt.xlabel(col)\n",
        "    plt.ylabel('Density')\n",
        "\n",
        "plt.tight_layout()\n",
        "plt.show()\n"
      ],
      "metadata": {
        "id": "SZzZdUaYurGl"
      },
      "execution_count": null,
      "outputs": []
    },
    {
      "cell_type": "code",
      "source": [],
      "metadata": {
        "id": "-DkHiU8t59Xt"
      },
      "execution_count": null,
      "outputs": []
    },
    {
      "cell_type": "code",
      "source": [
        "import numpy as np\n",
        "plt.figure(figsize=(8, 6))\n",
        "colors = np.array([\"red\",\"green\"])\n",
        "plt.scatter(data=df, x='Birth_Length', y='Birth_Weight', color=\"green\")\n",
        "plt.title('Birth Weight vs Birth Length')\n",
        "plt.show()\n"
      ],
      "metadata": {
        "id": "wOiUsOCixaav"
      },
      "execution_count": null,
      "outputs": []
    },
    {
      "cell_type": "code",
      "source": [
        "features = ['Maternal_Age', 'Birth_Length', 'Birth_Weight']\n",
        "plt.figure(figsize=(18, 5))\n",
        "\n",
        "for i, feature in enumerate(features, 1):\n",
        "  plt.subplot(1, 3, i)\n",
        "  sns.scatterplot(data=df, x='Household_Income', y=feature, hue='Household_Income', palette='viridis')\n",
        "plt.tight_layout()\n",
        "plt.show()\n"
      ],
      "metadata": {
        "id": "uxgJb-VYxweO"
      },
      "execution_count": null,
      "outputs": []
    },
    {
      "cell_type": "code",
      "source": [
        "import seaborn as sns\n",
        "import matplotlib.pyplot as plt\n",
        "pairplot_columns = ['Maternal_Age', 'Birth_Length', 'Birth_Weight', 'Gestational_Age_At_Birth', 'Household_Income']\n",
        "df_pair = df[pairplot_columns].dropna()\n",
        "sns.pairplot(df_pair,vars=['Maternal_Age', 'Birth_Length', 'Birth_Weight', 'Gestational_Age_At_Birth'],\n",
        "             hue='Household_Income',palette='Set2',\n",
        "             diag_kind='kde')\n",
        "plt.show()\n"
      ],
      "metadata": {
        "id": "wpJUvmkg00Uz"
      },
      "execution_count": null,
      "outputs": []
    },
    {
      "cell_type": "code",
      "source": [
        "df"
      ],
      "metadata": {
        "id": "6y3Fp5C78Itj"
      },
      "execution_count": null,
      "outputs": []
    },
    {
      "cell_type": "code",
      "source": [
        "df['Birth_Length']"
      ],
      "metadata": {
        "id": "DmFFMXXG8tGh"
      },
      "execution_count": null,
      "outputs": []
    },
    {
      "cell_type": "code",
      "source": [
        "df[\"Gestational_Age_At_Birth\"]=df['Gestational_Age_At_Birth']/ 4.33"
      ],
      "metadata": {
        "id": "GeVQTLby84nq"
      },
      "execution_count": null,
      "outputs": []
    },
    {
      "cell_type": "code",
      "source": [
        "df[\"Gestational_Age_At_Birth\"]"
      ],
      "metadata": {
        "id": "jJFPcF1C88O4"
      },
      "execution_count": null,
      "outputs": []
    },
    {
      "cell_type": "code",
      "source": [
        "df[\"Gestational_Age_At_Birth\"].fillna(df[\"Gestational_Age_At_Birth\"].mean(), inplace=True)\n",
        "x =sns.JointGrid(data=df,x='Gestational_Age_At_Birth',\n",
        "    y='Birth_Length')\n",
        "x.plot_marginals(sns.kdeplot, fill=True, color='gray')\n",
        "x.plot_joint(sns.scatterplot, color='red')\n",
        "plt.show()\n"
      ],
      "metadata": {
        "id": "i0LlMBg49YZW"
      },
      "execution_count": null,
      "outputs": []
    },
    {
      "cell_type": "code",
      "source": [
        "import matplotlib.pyplot as plt\n",
        "from mpl_toolkits.mplot3d import Axes3D\n",
        "import pandas as pd\n",
        "df_3d = df[['Maternal_Age', 'Gestational_Age_At_Birth', 'Birth_Weight']].dropna()\n",
        "fig = plt.figure(figsize=(10, 8))\n",
        "ax = fig.add_subplot(111, projection='3d')\n",
        "ax.scatter(\n",
        "    df_3d['Maternal_Age'],\n",
        "    df_3d['Gestational_Age_At_Birth'],\n",
        "    df_3d['Birth_Weight'],\n",
        "    c='skyblue',\n",
        "    s=60,\n",
        "    edgecolors='k',\n",
        "    alpha=0.8\n",
        ")\n",
        "ax.set_xlabel('Maternal Age (Years)')\n",
        "ax.set_ylabel('Gestational Age at Birth (Weeks)')\n",
        "ax.set_zlabel('Birth Weight (g)')\n",
        "plt.tight_layout()\n",
        "plt.show()\n"
      ],
      "metadata": {
        "id": "TsvfcvZk9sSB"
      },
      "execution_count": null,
      "outputs": []
    },
    {
      "cell_type": "code",
      "source": [],
      "metadata": {
        "id": "OW0AjSVaBIDT"
      },
      "execution_count": null,
      "outputs": []
    }
  ]
}